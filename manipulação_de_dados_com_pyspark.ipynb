{
  "nbformat": 4,
  "nbformat_minor": 0,
  "metadata": {
    "colab": {
      "provenance": [],
      "collapsed_sections": [
        "-VYiuYBitT_W",
        "92KU5Fr7vbFR",
        "heLb6F_4v2N6",
        "1yxBIkGbwD6I",
        "r9hq49w6wM0E",
        "4jM6wmzNtTsl",
        "apDmUfqIF-Jy",
        "8IE7ixAGXAhr",
        "l3IM7ev7qmOY",
        "5TIKffusK3A5",
        "bGH_0E4LGAZ8",
        "6EOgNpa3NDoB",
        "rPZsm-olbS9k",
        "42xkMcNGKvJ3",
        "GhXRoOcJXRuN",
        "mc7-8Lj3J7nn",
        "Q6UPRVH3ogNW"
      ],
      "include_colab_link": true
    },
    "kernelspec": {
      "name": "python3",
      "display_name": "Python 3"
    },
    "language_info": {
      "name": "python"
    }
  },
  "cells": [
    {
      "cell_type": "markdown",
      "metadata": {
        "id": "view-in-github",
        "colab_type": "text"
      },
      "source": [
        "<a href=\"https://colab.research.google.com/github/almeidamariana/pyspark_GLP/blob/main/manipula%C3%A7%C3%A3o_de_dados_com_pyspark.ipynb\" target=\"_parent\"><img src=\"https://colab.research.google.com/assets/colab-badge.svg\" alt=\"Open In Colab\"/></a>"
      ]
    },
    {
      "cell_type": "markdown",
      "source": [
        "# **Análise Exploratória de dados com PySpark**"
      ],
      "metadata": {
        "id": "io7ILx1wtyb-"
      }
    },
    {
      "cell_type": "markdown",
      "source": [
        "**Objetivo**\n",
        "\n",
        "Aprimorar minhas habilidades em PySpark, alinhando-as às melhores práticas de processamento distribuído."
      ],
      "metadata": {
        "id": "jEeRLn2nunJJ"
      }
    },
    {
      "cell_type": "markdown",
      "source": [
        "**Sobre os dados**\n",
        "\n",
        "O Brasil passa por um aumento significativo de preços, inclusive do GLP - Gás Liquefeito de Petróleo, distribuído para a população em botijões de 13Kg, e que é popularmanete conhecido como Gás de Cozinha ou Botijão de Gás. Em sua grande maioria são acoplados em fogões e utilizados como combustíveis, principalmente para cozinhar alimentos. Portanto, é um item de extrema importância para toda população Brasileira e que entender a distribuição de preços nas mais diversas regiões e unidades da federação do país se faz extremamente necessário.\n",
        "\n",
        "Serão utilizados os dados resultantes de uma pesquisa conduzida no mês de dezembro de 2021 pela ANP e divulgada no portal de dados abertos do Governo Federal do Brasil."
      ],
      "metadata": {
        "id": "BzUaxuTBucE8"
      }
    },
    {
      "cell_type": "markdown",
      "source": [
        "## **Preparando o ambiente para utilizar o PySpark**"
      ],
      "metadata": {
        "id": "-VYiuYBitT_W"
      }
    },
    {
      "cell_type": "markdown",
      "source": [
        "### **Instalando o Java**"
      ],
      "metadata": {
        "id": "92KU5Fr7vbFR"
      }
    },
    {
      "cell_type": "markdown",
      "source": [
        "O Apache Spark depende de outros sistemas, portanto, antes do Spark é preciso instalar as dependências. Primeiro, deve-se instalar o Java."
      ],
      "metadata": {
        "id": "IX_whX7tudF1"
      }
    },
    {
      "cell_type": "code",
      "execution_count": null,
      "metadata": {
        "id": "CzlKrPTjtG1x"
      },
      "outputs": [],
      "source": [
        "!apt-get install openjdk-8-jdk-headless -qq > /dev/null"
      ]
    },
    {
      "cell_type": "markdown",
      "source": [
        "### **Instalando o Apache Spark**"
      ],
      "metadata": {
        "id": "heLb6F_4v2N6"
      }
    },
    {
      "cell_type": "markdown",
      "source": [
        "Em seguida, é preciso fazer o download do Spark e do Hadoop, pois o Apache Spark roda sob o HDFS (Hadoop Distributed File System - camada de armazenamento), na máquina virtual (Google Colab nesse caso)."
      ],
      "metadata": {
        "id": "vm1tKyRcu4k_"
      }
    },
    {
      "cell_type": "code",
      "source": [
        "# Fazendo download\n",
        "!wget -q https://archive.apache.org/dist/spark/spark-3.1.2/spark-3.1.2-bin-hadoop2.7.tgz\n",
        "\n",
        "# Descompactando os arquivos\n",
        "!tar xf spark-3.1.2-bin-hadoop2.7.tgz"
      ],
      "metadata": {
        "id": "V_vW2VKRvNee"
      },
      "execution_count": null,
      "outputs": []
    },
    {
      "cell_type": "markdown",
      "source": [
        "### **Configurando o ambiente**"
      ],
      "metadata": {
        "id": "1yxBIkGbwD6I"
      }
    },
    {
      "cell_type": "markdown",
      "source": [
        "É preciso informar o sistema onde encontrar o Java e o Spark já instalados."
      ],
      "metadata": {
        "id": "tlAVX6VZwwTl"
      }
    },
    {
      "cell_type": "code",
      "source": [
        "# Importando a biblioteca os\n",
        "import os\n",
        "\n",
        "# Os.environ é um objeto de mapeamento que mapeia as variáveis ​​ambientais do usuário\n",
        "# Definindo a variável de ambiente do Java\n",
        "os.environ[\"JAVA_HOME\"] = \"/usr/lib/jvm/java-8-openjdk-amd64\"\n",
        "\n",
        "# Definindo a variável de ambiente do Spark\n",
        "os.environ[\"SPARK_HOME\"] = \"/content/spark-3.1.2-bin-hadoop2.7\""
      ],
      "metadata": {
        "id": "wXbSqJX-xtbc"
      },
      "execution_count": null,
      "outputs": []
    },
    {
      "cell_type": "markdown",
      "source": [
        "Instalar a biblioteca *findspark*, que vai permitir importar pacotes necessários para o funcionamento do pyspark.\n",
        "\n"
      ],
      "metadata": {
        "id": "C5mzwT-kyCS_"
      }
    },
    {
      "cell_type": "code",
      "source": [
        "# instalando a findspark\n",
        "!pip install -q findspark"
      ],
      "metadata": {
        "id": "0GuIDF0kvZ4d"
      },
      "execution_count": null,
      "outputs": []
    },
    {
      "cell_type": "code",
      "source": [
        "#importando a findspark\n",
        "import findspark\n",
        "\n",
        "# iniciando o findspark\n",
        "findspark.init()"
      ],
      "metadata": {
        "id": "t6D_kgUSyBzx"
      },
      "execution_count": null,
      "outputs": []
    },
    {
      "cell_type": "markdown",
      "source": [
        "## **Iniciando o PySpark**"
      ],
      "metadata": {
        "id": "r9hq49w6wM0E"
      }
    },
    {
      "cell_type": "markdown",
      "source": [
        "O Apache Spark é uma plataforma poderosa para processamento distribuído de grandes conjuntos de dados. Para começar a trabalhar com o Spark usando a API PySpark, é necessário um ponto de entrada principal: a SparkSession. A SparkSession atua como a porta de entrada para todas as operações e funcionalidades oferecidas pelo Spark.\n"
      ],
      "metadata": {
        "id": "cO0W-wS7yZh7"
      }
    },
    {
      "cell_type": "code",
      "source": [
        "# Pacote necessário para manipulação de dados\n",
        "from pyspark.sql import SparkSession"
      ],
      "metadata": {
        "id": "KMmSadwyXN-H"
      },
      "execution_count": null,
      "outputs": []
    },
    {
      "cell_type": "markdown",
      "source": [
        "1. **SparkSession.builder:** é o ponto de partida para configurar e criar uma instância do SparkSession.\n",
        "\n",
        "2. **master('local[*]'):** significa que o Spark será executado no modo de execução local com todos os núcleos disponíveis.\n",
        "\n",
        "3. **getOrCreate():** cria uma instância do SparkSession se ela ainda não existir ou retorna a instância existente se já estiver criada.\n",
        "\n",
        "Em resumo, o código cria uma instância do SparkSession configurada para executar o Spark no modo local com todos os núcleos disponíveis. Essa instância do SparkSession é a porta de entrada para executar operações e tarefas no Apache Spark."
      ],
      "metadata": {
        "id": "ObON_9m5zpVn"
      }
    },
    {
      "cell_type": "code",
      "source": [
        "# Iniciando o spark context - criando uma sessão\n",
        "sc = SparkSession.builder.master('local[*]').getOrCreate()\n",
        "\n",
        "# Verificando se a sessão foi criada\n",
        "sc"
      ],
      "metadata": {
        "id": "qEDpAYxS1Lkt",
        "colab": {
          "base_uri": "https://localhost:8080/",
          "height": 219
        },
        "outputId": "fa4526bd-8340-4caa-a651-27ec9835442e"
      },
      "execution_count": null,
      "outputs": [
        {
          "output_type": "execute_result",
          "data": {
            "text/plain": [
              "<pyspark.sql.session.SparkSession at 0x79a3514651e0>"
            ],
            "text/html": [
              "\n",
              "            <div>\n",
              "                <p><b>SparkSession - in-memory</b></p>\n",
              "                \n",
              "        <div>\n",
              "            <p><b>SparkContext</b></p>\n",
              "\n",
              "            <p><a href=\"http://86280593f0bb:4040\">Spark UI</a></p>\n",
              "\n",
              "            <dl>\n",
              "              <dt>Version</dt>\n",
              "                <dd><code>v3.1.2</code></dd>\n",
              "              <dt>Master</dt>\n",
              "                <dd><code>local[*]</code></dd>\n",
              "              <dt>AppName</dt>\n",
              "                <dd><code>pyspark-shell</code></dd>\n",
              "            </dl>\n",
              "        </div>\n",
              "        \n",
              "            </div>\n",
              "        "
            ]
          },
          "metadata": {},
          "execution_count": 7
        }
      ]
    },
    {
      "cell_type": "markdown",
      "source": [
        "## **Ingestão dos dados para o Apache Spark**"
      ],
      "metadata": {
        "id": "4jM6wmzNtTsl"
      }
    },
    {
      "cell_type": "code",
      "source": [
        "# download de um conjunto de dados aberto\n",
        "# fonte: https://dados.gov.br/dataset/serie-historica-de-precos-de-combustiveis-por-revenda\n",
        "# mês 12 de 2021\n",
        "!wget --verbose --show-progress --no-check-certificate https://www.gov.br/anp/pt-br/centrais-de-conteudo/dados-abertos/arquivos/shpc/dsan/2021/dados-abertos-precos-2021-12-glp.csv"
      ],
      "metadata": {
        "colab": {
          "base_uri": "https://localhost:8080/"
        },
        "id": "6Hr7siMc9onI",
        "outputId": "b447d6f8-1d6d-4d3c-8c29-37659f849852"
      },
      "execution_count": null,
      "outputs": [
        {
          "output_type": "stream",
          "name": "stdout",
          "text": [
            "--2023-10-19 17:16:15--  https://www.gov.br/anp/pt-br/centrais-de-conteudo/dados-abertos/arquivos/shpc/dsan/2021/dados-abertos-precos-2021-12-glp.csv\n",
            "Resolving www.gov.br (www.gov.br)... 161.148.164.31\n",
            "Connecting to www.gov.br (www.gov.br)|161.148.164.31|:443... connected.\n",
            "HTTP request sent, awaiting response... 200 OK\n",
            "Length: 2623526 (2.5M) [text/csv]\n",
            "Saving to: ‘dados-abertos-precos-2021-12-glp.csv’\n",
            "\n",
            "dados-abertos-preco 100%[===================>]   2.50M   760KB/s    in 3.4s    \n",
            "\n",
            "2023-10-19 17:16:19 (760 KB/s) - ‘dados-abertos-precos-2021-12-glp.csv’ saved [2623526/2623526]\n",
            "\n"
          ]
        }
      ]
    },
    {
      "cell_type": "markdown",
      "source": [
        "**Utilizando o Apache Spark para ler um arquivo CSV**\n",
        "\n",
        "O argumento inferSchema=True é usado para fazer o Spark inferir automaticamente o tipo de dados de cada coluna com base no conteúdo do arquivo CSV."
      ],
      "metadata": {
        "id": "cvMZrDYVU9aO"
      }
    },
    {
      "cell_type": "code",
      "source": [
        " # Carregando o conjunto de dados na sessão do spark (sc)\n",
        " # header = TRUE -> primeira linha como cabeçalho\n",
        "precogas = sc.read.csv(\"/content/dados-abertos-precos-2021-12-glp.csv\",\n",
        "                       inferSchema=True, header=True,\n",
        "                       sep = ';',\n",
        "                       encoding = \"UTF-8\")"
      ],
      "metadata": {
        "id": "OSY8AiTW9rMI"
      },
      "execution_count": null,
      "outputs": []
    },
    {
      "cell_type": "code",
      "source": [
        "# Verificando o tipo de objeto criado\n",
        "type(precogas) # conjunto de dados particionado"
      ],
      "metadata": {
        "colab": {
          "base_uri": "https://localhost:8080/"
        },
        "id": "-mqZ_O2itjve",
        "outputId": "7b09fc49-2c54-4c1d-f951-7ce1b3bbcf7b"
      },
      "execution_count": null,
      "outputs": [
        {
          "output_type": "execute_result",
          "data": {
            "text/plain": [
              "pyspark.sql.dataframe.DataFrame"
            ]
          },
          "metadata": {},
          "execution_count": 10
        }
      ]
    },
    {
      "cell_type": "code",
      "source": [
        "# Ver as 5 primeiras linhas\n",
        "precogas.show(5)"
      ],
      "metadata": {
        "colab": {
          "base_uri": "https://localhost:8080/"
        },
        "id": "nCsAdoV8ir-w",
        "outputId": "a3fa2fa5-addd-47f2-a453-cb6c48ff89fc"
      },
      "execution_count": null,
      "outputs": [
        {
          "output_type": "stream",
          "name": "stdout",
          "text": [
            "+--------------+--------------+-----------+--------------------+-------------------+-------------------+----------+-----------+--------------+---------+-------+--------------+--------------+---------------+-----------------+---------+\n",
            "|Regiao - Sigla|Estado - Sigla|  Municipio|             Revenda|    CNPJ da Revenda|        Nome da Rua|Numero Rua|Complemento|        Bairro|      Cep|Produto|Data da Coleta|Valor de Venda|Valor de Compra|Unidade de Medida| Bandeira|\n",
            "+--------------+--------------+-----------+--------------------+-------------------+-------------------+----------+-----------+--------------+---------+-------+--------------+--------------+---------------+-----------------+---------+\n",
            "|            SE|            SP|SAO VICENTE|CONSIGAZ DISTRIBU...| 01.597.589/0003-81|RUA MANOEL DE ABREU|       790| QUADRA 108|CIDADE NAUTICA|11355-400|    GLP|    01/12/2021|         97,99|           null|       R$ / 13 kg| CONSIGAZ|\n",
            "|             N|            AC| RIO BRANCO|AUTO POSTO AMAPA ...| 00.529.581/0001-53|   VIA CHICO MENDES|      3570|       null|         AREAL|69906-119|    GLP|    01/12/2021|           115|           null|       R$ / 13 kg|    FOGAS|\n",
            "|             N|            AC| RIO BRANCO|AUTO POSTO ACAUAN...| 00.524.999/0001-78|      RODOVIA AC 40|      1800|       null|     VILA ACRE|69902-450|    GLP|    01/12/2021|           110|           null|       R$ / 13 kg|AMAZONGÁS|\n",
            "|             N|            AC| RIO BRANCO|AUTO POSTO CANIND...| 05.442.544/0001-27|      RODOVIA AC 40|      3206|      KM 07|     VILA ACRE|69902-450|    GLP|    01/12/2021|           115|           null|       R$ / 13 kg|AMAZONGÁS|\n",
            "|             N|            AC| RIO BRANCO|AUTO POSTO AEROPO...| 14.294.227/0001-00|     V CHICO MENDES|      2583|       null|        COMARA|69906-326|    GLP|    01/12/2021|           115|           null|       R$ / 13 kg|AMAZONGÁS|\n",
            "+--------------+--------------+-----------+--------------------+-------------------+-------------------+----------+-----------+--------------+---------+-------+--------------+--------------+---------------+-----------------+---------+\n",
            "only showing top 5 rows\n",
            "\n"
          ]
        }
      ]
    },
    {
      "cell_type": "markdown",
      "source": [
        "## **Conhecendo a estrutura do SparkDataFrame**"
      ],
      "metadata": {
        "id": "apDmUfqIF-Jy"
      }
    },
    {
      "cell_type": "markdown",
      "source": [
        "A biblioteca **pyspark** fornece as funcionalidades básicas para processamento de dados distribuído no Spark.\n",
        "\n",
        "A biblioteca **pyspark.sql** estende essas funcionalidades para facilitar o trabalho com dados estruturados, tornando-o mais adequado para análise de dados, processamento ETL (Extract, Transform, Load) - permitindo consultas SQL, agregações, filtros e transformações -.\n",
        "\n",
        "A importação de todas as funções do pacote com o uso do asterisco (*) é uma maneira conveniente de tornar todas as funções imediatamente disponíveis no ambiente de programação, sem a necessidade de especificar cada função individualmente.\n"
      ],
      "metadata": {
        "id": "li5HpTgAV8OF"
      }
    },
    {
      "cell_type": "code",
      "source": [
        "# Estrutura do SparkDataFrame\n",
        "from pyspark import *\n",
        "from pyspark.sql import *\n",
        "\n",
        "# Manipulação de colunas - importando os métodos com funções para transformações de variáveis\n",
        "from pyspark.sql.functions import *\n"
      ],
      "metadata": {
        "id": "aQVe4b9ZuXY8"
      },
      "execution_count": null,
      "outputs": []
    },
    {
      "cell_type": "code",
      "source": [
        "# Contando o número de linhas do dataset\n",
        "precogas.count()"
      ],
      "metadata": {
        "colab": {
          "base_uri": "https://localhost:8080/"
        },
        "id": "qdB5ea3i7zKH",
        "outputId": "f8d335c2-041f-41da-8f70-22d827e920d0"
      },
      "execution_count": null,
      "outputs": [
        {
          "output_type": "execute_result",
          "data": {
            "text/plain": [
              "15765"
            ]
          },
          "metadata": {},
          "execution_count": 16
        }
      ]
    },
    {
      "cell_type": "code",
      "source": [
        "# Contando o número de colunas do dataset\n",
        "len(precogas.columns)"
      ],
      "metadata": {
        "colab": {
          "base_uri": "https://localhost:8080/"
        },
        "id": "Fe5ct-vaB3hF",
        "outputId": "4a9bf6f8-d340-4f9a-9bf8-0d0b993cc826"
      },
      "execution_count": null,
      "outputs": [
        {
          "output_type": "execute_result",
          "data": {
            "text/plain": [
              "16"
            ]
          },
          "metadata": {},
          "execution_count": 17
        }
      ]
    },
    {
      "cell_type": "code",
      "source": [
        "# Verificando o schema() deste sparkdataframe\n",
        "# Outro método para verificar o tipo dos atributos do dataset: precogas.dtypes\n",
        "precogas.printSchema()"
      ],
      "metadata": {
        "id": "6P2qNG2noly3"
      },
      "execution_count": null,
      "outputs": []
    },
    {
      "cell_type": "markdown",
      "source": [
        "Uma vez que todas as variáveis foram reconhecidas como string, ao aplicar a função describe para verificar valores faltantes e obter medidas descritivas teremos resultados incoerentes. Assim, é preciso realizar transformações nas variáveis.\n",
        "\n"
      ],
      "metadata": {
        "id": "zphUFsIV8fpR"
      }
    },
    {
      "cell_type": "code",
      "source": [
        "# Listando as colunas do dataset\n",
        "precogas.columns"
      ],
      "metadata": {
        "colab": {
          "base_uri": "https://localhost:8080/"
        },
        "id": "pFwIj4T9-qlC",
        "outputId": "8fc1ee25-eb39-4b4e-c983-373e2842073f"
      },
      "execution_count": null,
      "outputs": [
        {
          "output_type": "execute_result",
          "data": {
            "text/plain": [
              "['Regiao',\n",
              " 'Estado',\n",
              " 'Municipio',\n",
              " 'Revenda',\n",
              " 'Bairro',\n",
              " 'Data_da_Coleta',\n",
              " 'Valor_de_Venda',\n",
              " 'Bandeira',\n",
              " 'Ano',\n",
              " 'Faixa_Preco']"
            ]
          },
          "metadata": {},
          "execution_count": 48
        }
      ]
    },
    {
      "cell_type": "markdown",
      "source": [
        "## **Manipulação de colunas do SparkDataFrame**"
      ],
      "metadata": {
        "id": "8IE7ixAGXAhr"
      }
    },
    {
      "cell_type": "code",
      "source": [
        "# Selecionando somente algumas colunas do dataset\n",
        "precogas.select('Revenda','Bandeira','Data da Coleta','Valor de Venda').show(5)"
      ],
      "metadata": {
        "colab": {
          "base_uri": "https://localhost:8080/"
        },
        "id": "5HDDTOGi_Jwq",
        "outputId": "8b02cd8c-b62e-49cf-fe32-20b37ec3751f"
      },
      "execution_count": null,
      "outputs": [
        {
          "output_type": "stream",
          "name": "stdout",
          "text": [
            "+--------------------+---------+--------------+--------------+\n",
            "|             Revenda| Bandeira|Data da Coleta|Valor de Venda|\n",
            "+--------------------+---------+--------------+--------------+\n",
            "|CONSIGAZ DISTRIBU...| CONSIGAZ|    01/12/2021|         97,99|\n",
            "|AUTO POSTO AMAPA ...|    FOGAS|    01/12/2021|           115|\n",
            "|AUTO POSTO ACAUAN...|AMAZONGÁS|    01/12/2021|           110|\n",
            "|AUTO POSTO CANIND...|AMAZONGÁS|    01/12/2021|           115|\n",
            "|AUTO POSTO AEROPO...|AMAZONGÁS|    01/12/2021|           115|\n",
            "+--------------------+---------+--------------+--------------+\n",
            "only showing top 5 rows\n",
            "\n"
          ]
        }
      ]
    },
    {
      "cell_type": "code",
      "source": [
        "# Outra forma de selecionar somente algumas colunas do dataset\n",
        "precogas.select('Revenda','Bandeira',col('Data da Coleta').alias('Data_da_Coleta'),'Valor de Venda').show(5)"
      ],
      "metadata": {
        "colab": {
          "base_uri": "https://localhost:8080/"
        },
        "id": "7zPQp2JXIwA5",
        "outputId": "586b6f1b-ccd3-40c5-e2da-9da1d9985a45"
      },
      "execution_count": null,
      "outputs": [
        {
          "output_type": "stream",
          "name": "stdout",
          "text": [
            "+--------------------+---------+--------------+--------------+\n",
            "|             Revenda| Bandeira|Data_da_Coleta|Valor de Venda|\n",
            "+--------------------+---------+--------------+--------------+\n",
            "|CONSIGAZ DISTRIBU...| CONSIGAZ|    01/12/2021|         97,99|\n",
            "|AUTO POSTO AMAPA ...|    FOGAS|    01/12/2021|           115|\n",
            "|AUTO POSTO ACAUAN...|AMAZONGÁS|    01/12/2021|           110|\n",
            "|AUTO POSTO CANIND...|AMAZONGÁS|    01/12/2021|           115|\n",
            "|AUTO POSTO AEROPO...|AMAZONGÁS|    01/12/2021|           115|\n",
            "+--------------------+---------+--------------+--------------+\n",
            "only showing top 5 rows\n",
            "\n"
          ]
        }
      ]
    },
    {
      "cell_type": "markdown",
      "source": [
        "Retirar os espaços do nome da variável facilita quando for selecionar (ao clicar duas vezes na palavra) em manipulações futuras. No caso de muitas colunas, é possível obter uma lista das colunas e substituir todos os espaços por underline (_)."
      ],
      "metadata": {
        "id": "2CW084rG_tSb"
      }
    },
    {
      "cell_type": "code",
      "source": [
        "# Outra forma de declarar uma coluna de um dataset\n",
        "precogas.select(precogas.Revenda.alias('Revendedora'),precogas.Bandeira).show(5)"
      ],
      "metadata": {
        "colab": {
          "base_uri": "https://localhost:8080/"
        },
        "id": "R141oRC1Db-z",
        "outputId": "54448286-6c2f-4817-b8d5-16fed7fa3d7c"
      },
      "execution_count": null,
      "outputs": [
        {
          "output_type": "stream",
          "name": "stdout",
          "text": [
            "+--------------------+---------+\n",
            "|         Revendedora| Bandeira|\n",
            "+--------------------+---------+\n",
            "|CONSIGAZ DISTRIBU...| CONSIGAZ|\n",
            "|AUTO POSTO AMAPA ...|    FOGAS|\n",
            "|AUTO POSTO ACAUAN...|AMAZONGÁS|\n",
            "|AUTO POSTO CANIND...|AMAZONGÁS|\n",
            "|AUTO POSTO AEROPO...|AMAZONGÁS|\n",
            "+--------------------+---------+\n",
            "only showing top 5 rows\n",
            "\n"
          ]
        }
      ]
    },
    {
      "cell_type": "markdown",
      "source": [
        "É comum que em um dataset haja problemas na escrita de alguns elementos, que embora signifiquem a mesma coisa estão descritos de forma diferente e não compõem uma mesma classificação (por exemplo, 'São Paulo' e 'sao paulo').\n",
        "\n",
        "Não foi observado esse problema no dataset, mas uma solução seria retirar os acentos das palavras e transformar todas as letras em minúsculas ou maiúsculas."
      ],
      "metadata": {
        "id": "8zYZi4U_-ddF"
      }
    },
    {
      "cell_type": "code",
      "source": [
        "# Criando uma nova coluna deixando o atributo Bandeira em minúsculo - transformando os dados p/ botar em outra coluna\n",
        "# lower ou upper: deixar as letras em maiúsculo ou minúsculo\n",
        "# outra ideia é retirar acentos\n",
        "\n",
        "precogas.withColumn(colName = \"teste\", col = lower('Bandeira')).show(5)"
      ],
      "metadata": {
        "colab": {
          "base_uri": "https://localhost:8080/"
        },
        "id": "CbR76MkQM_Df",
        "outputId": "ca2a8aa8-12c3-43ff-bed4-17c80b0dc0d1"
      },
      "execution_count": null,
      "outputs": [
        {
          "output_type": "stream",
          "name": "stdout",
          "text": [
            "+--------------+--------------+-----------+--------------------+-------------------+-------------------+----------+-----------+--------------+---------+-------+--------------+--------------+---------------+-----------------+---------+---------+\n",
            "|Regiao - Sigla|Estado - Sigla|  Municipio|             Revenda|    CNPJ da Revenda|        Nome da Rua|Numero Rua|Complemento|        Bairro|      Cep|Produto|Data da Coleta|Valor de Venda|Valor de Compra|Unidade de Medida| Bandeira|    teste|\n",
            "+--------------+--------------+-----------+--------------------+-------------------+-------------------+----------+-----------+--------------+---------+-------+--------------+--------------+---------------+-----------------+---------+---------+\n",
            "|            SE|            SP|SAO VICENTE|CONSIGAZ DISTRIBU...| 01.597.589/0003-81|RUA MANOEL DE ABREU|       790| QUADRA 108|CIDADE NAUTICA|11355-400|    GLP|    01/12/2021|         97,99|           null|       R$ / 13 kg| CONSIGAZ| consigaz|\n",
            "|             N|            AC| RIO BRANCO|AUTO POSTO AMAPA ...| 00.529.581/0001-53|   VIA CHICO MENDES|      3570|       null|         AREAL|69906-119|    GLP|    01/12/2021|           115|           null|       R$ / 13 kg|    FOGAS|    fogas|\n",
            "|             N|            AC| RIO BRANCO|AUTO POSTO ACAUAN...| 00.524.999/0001-78|      RODOVIA AC 40|      1800|       null|     VILA ACRE|69902-450|    GLP|    01/12/2021|           110|           null|       R$ / 13 kg|AMAZONGÁS|amazongás|\n",
            "|             N|            AC| RIO BRANCO|AUTO POSTO CANIND...| 05.442.544/0001-27|      RODOVIA AC 40|      3206|      KM 07|     VILA ACRE|69902-450|    GLP|    01/12/2021|           115|           null|       R$ / 13 kg|AMAZONGÁS|amazongás|\n",
            "|             N|            AC| RIO BRANCO|AUTO POSTO AEROPO...| 14.294.227/0001-00|     V CHICO MENDES|      2583|       null|        COMARA|69906-326|    GLP|    01/12/2021|           115|           null|       R$ / 13 kg|AMAZONGÁS|amazongás|\n",
            "+--------------+--------------+-----------+--------------------+-------------------+-------------------+----------+-----------+--------------+---------+-------+--------------+--------------+---------------+-----------------+---------+---------+\n",
            "only showing top 5 rows\n",
            "\n"
          ]
        }
      ]
    },
    {
      "cell_type": "code",
      "source": [
        "# Criando uma nova coluna somente replicando o atributo bandeira\n",
        "precogas.withColumn(\"teste\", precogas.Bandeira).show(5)"
      ],
      "metadata": {
        "colab": {
          "base_uri": "https://localhost:8080/"
        },
        "id": "PUVTIfznKxZD",
        "outputId": "d9675e30-fd89-4abe-e664-6950b3505fc1"
      },
      "execution_count": null,
      "outputs": [
        {
          "output_type": "stream",
          "name": "stdout",
          "text": [
            "+--------------+--------------+-----------+--------------------+-------------------+-------------------+----------+-----------+--------------+---------+-------+--------------+--------------+---------------+-----------------+---------+---------+\n",
            "|Regiao - Sigla|Estado - Sigla|  Municipio|             Revenda|    CNPJ da Revenda|        Nome da Rua|Numero Rua|Complemento|        Bairro|      Cep|Produto|Data da Coleta|Valor de Venda|Valor de Compra|Unidade de Medida| Bandeira|    teste|\n",
            "+--------------+--------------+-----------+--------------------+-------------------+-------------------+----------+-----------+--------------+---------+-------+--------------+--------------+---------------+-----------------+---------+---------+\n",
            "|            SE|            SP|SAO VICENTE|CONSIGAZ DISTRIBU...| 01.597.589/0003-81|RUA MANOEL DE ABREU|       790| QUADRA 108|CIDADE NAUTICA|11355-400|    GLP|    01/12/2021|         97,99|           null|       R$ / 13 kg| CONSIGAZ| CONSIGAZ|\n",
            "|             N|            AC| RIO BRANCO|AUTO POSTO AMAPA ...| 00.529.581/0001-53|   VIA CHICO MENDES|      3570|       null|         AREAL|69906-119|    GLP|    01/12/2021|           115|           null|       R$ / 13 kg|    FOGAS|    FOGAS|\n",
            "|             N|            AC| RIO BRANCO|AUTO POSTO ACAUAN...| 00.524.999/0001-78|      RODOVIA AC 40|      1800|       null|     VILA ACRE|69902-450|    GLP|    01/12/2021|           110|           null|       R$ / 13 kg|AMAZONGÁS|AMAZONGÁS|\n",
            "|             N|            AC| RIO BRANCO|AUTO POSTO CANIND...| 05.442.544/0001-27|      RODOVIA AC 40|      3206|      KM 07|     VILA ACRE|69902-450|    GLP|    01/12/2021|           115|           null|       R$ / 13 kg|AMAZONGÁS|AMAZONGÁS|\n",
            "|             N|            AC| RIO BRANCO|AUTO POSTO AEROPO...| 14.294.227/0001-00|     V CHICO MENDES|      2583|       null|        COMARA|69906-326|    GLP|    01/12/2021|           115|           null|       R$ / 13 kg|AMAZONGÁS|AMAZONGÁS|\n",
            "+--------------+--------------+-----------+--------------------+-------------------+-------------------+----------+-----------+--------------+---------+-------+--------------+--------------+---------------+-----------------+---------+---------+\n",
            "only showing top 5 rows\n",
            "\n"
          ]
        }
      ]
    },
    {
      "cell_type": "code",
      "source": [
        "# substituindo valores de uma variavel com o metodo replace\n",
        "# substituindo GLP por GAS DE COZINHA da coluna produto\n",
        "precogas.replace(\n",
        "  to_replace = 'GLP',\n",
        "  value = 'GAS DE COZINHA',\n",
        "  subset = 'produto').show(5)"
      ],
      "metadata": {
        "colab": {
          "base_uri": "https://localhost:8080/"
        },
        "id": "82jfxLHYNm1l",
        "outputId": "0ed0e7e7-c45d-45c4-c731-5286529ad4dd"
      },
      "execution_count": null,
      "outputs": [
        {
          "output_type": "stream",
          "name": "stdout",
          "text": [
            "+--------------+--------------+-----------+--------------------+-------------------+-------------------+----------+-----------+--------------+---------+--------------+--------------+--------------+---------------+-----------------+---------+\n",
            "|Regiao - Sigla|Estado - Sigla|  Municipio|             Revenda|    CNPJ da Revenda|        Nome da Rua|Numero Rua|Complemento|        Bairro|      Cep|       Produto|Data da Coleta|Valor de Venda|Valor de Compra|Unidade de Medida| Bandeira|\n",
            "+--------------+--------------+-----------+--------------------+-------------------+-------------------+----------+-----------+--------------+---------+--------------+--------------+--------------+---------------+-----------------+---------+\n",
            "|            SE|            SP|SAO VICENTE|CONSIGAZ DISTRIBU...| 01.597.589/0003-81|RUA MANOEL DE ABREU|       790| QUADRA 108|CIDADE NAUTICA|11355-400|GAS DE COZINHA|    01/12/2021|         97,99|           null|       R$ / 13 kg| CONSIGAZ|\n",
            "|             N|            AC| RIO BRANCO|AUTO POSTO AMAPA ...| 00.529.581/0001-53|   VIA CHICO MENDES|      3570|       null|         AREAL|69906-119|GAS DE COZINHA|    01/12/2021|           115|           null|       R$ / 13 kg|    FOGAS|\n",
            "|             N|            AC| RIO BRANCO|AUTO POSTO ACAUAN...| 00.524.999/0001-78|      RODOVIA AC 40|      1800|       null|     VILA ACRE|69902-450|GAS DE COZINHA|    01/12/2021|           110|           null|       R$ / 13 kg|AMAZONGÁS|\n",
            "|             N|            AC| RIO BRANCO|AUTO POSTO CANIND...| 05.442.544/0001-27|      RODOVIA AC 40|      3206|      KM 07|     VILA ACRE|69902-450|GAS DE COZINHA|    01/12/2021|           115|           null|       R$ / 13 kg|AMAZONGÁS|\n",
            "|             N|            AC| RIO BRANCO|AUTO POSTO AEROPO...| 14.294.227/0001-00|     V CHICO MENDES|      2583|       null|        COMARA|69906-326|GAS DE COZINHA|    01/12/2021|           115|           null|       R$ / 13 kg|AMAZONGÁS|\n",
            "+--------------+--------------+-----------+--------------------+-------------------+-------------------+----------+-----------+--------------+---------+--------------+--------------+--------------+---------------+-----------------+---------+\n",
            "only showing top 5 rows\n",
            "\n"
          ]
        }
      ]
    },
    {
      "cell_type": "markdown",
      "source": [
        "## Transformações"
      ],
      "metadata": {
        "id": "vtTNwss_25I7"
      }
    },
    {
      "cell_type": "markdown",
      "source": [
        "Foram retiradas algumas variáveis como Nome da Rua, Número da Rua, Complemento, CEP e CNPJ da revenda, que não seriam utilizadas nessa análise. Além disso, retirou-se a coluna Produto e Unidade de Medida porque só há um único produto a ser considerado, o botijão de gás de 13kg. Também foi retirado o Valor de Compra uma vez que apresentava todos os valores faltantes.\n",
        "\n",
        "Os espaços contidos nos nomes das colunas restantes foram substituídos por underline, para facilitar possíveis leituras.\n"
      ],
      "metadata": {
        "id": "Xv-1o-r_xPyH"
      }
    },
    {
      "cell_type": "code",
      "source": [
        "# RETIRANDO VARIÁVEIS\n",
        "precogas = precogas.drop('Nome da Rua','Numero Rua', 'Complemento', 'Cep', 'Produto', 'Valor de Compra', 'Unidade de Medida', 'CNPJ da Revenda')\n",
        "\n",
        "\n",
        "# TRANSFORMANDO VARIÁVEIS\n",
        "\n",
        "# Substituindo '/' por '-' e alterando data da coleta para o formato date, persistindo o resultado na mesma coluna\n",
        "precogas = precogas.withColumn(\n",
        "    colName = 'Data da Coleta',\n",
        "    col = to_date(\n",
        "            col = regexp_replace('Data da Coleta','/','-'),  # regex: substituir alguma info - (/) por (-)\n",
        "            format = \"dd-MM-yyyy\"                            # padrão brasil\n",
        "          )\n",
        "    )\n",
        "\n",
        "\n",
        "# Transformando o preço de venda em numérica\n",
        "precogas = precogas.withColumn(\n",
        "    colName = 'Valor de Venda',\n",
        "    col = regexp_replace('Valor de Venda',',','.').cast('float') # trocando , por .\n",
        "    )                                                            # a função cast força a entender que é um float\n",
        "\n",
        "\n",
        "# Criando atributo de uma variável que contém data\n",
        "precogas = precogas.withColumn(\n",
        "    colName = 'Ano',\n",
        "    col = (precogas['Data da Coleta'].substr(0, 4)  ) # os (4) primeiros dígitos do primeiro (0) elemento\n",
        "    )\n",
        "\n",
        "\n",
        "# RECATEGORIZANDO\n",
        "\n",
        "precogas = precogas.withColumn(\n",
        "    colName = 'Faixa_Preco',\n",
        "    col = (\n",
        "        when(precogas['Valor de Venda']<100,' abaixo de R$100,00').\n",
        "        when(((precogas['Valor de Venda']>=100) &\n",
        "            (precogas['Valor de Venda']<110)),'de R$100 a R$109,99').\n",
        "       otherwise('R$110,00 ou mais')\n",
        "    )\n",
        "    )\n",
        "\n",
        "\n",
        "# RENOMEANDO COLUNAS\n",
        "\n",
        "precogas = precogas.withColumnRenamed(existing = 'Estado - Sigla', new = 'Estado')\n",
        "precogas = precogas.withColumnRenamed(existing = 'Regiao - Sigla', new = 'Regiao')\n",
        "\n",
        "for column in precogas.columns:\n",
        "    new = column.replace(\" \", \"_\") # substituir espaços por underline\n",
        "    precogas = precogas.withColumnRenamed(column, new)\n"
      ],
      "metadata": {
        "id": "nm6Za6oh28Eo"
      },
      "execution_count": null,
      "outputs": []
    },
    {
      "cell_type": "code",
      "source": [
        "# Verificando os tipos de variáveis\n",
        "precogas.printSchema()"
      ],
      "metadata": {
        "colab": {
          "base_uri": "https://localhost:8080/"
        },
        "id": "0tNQQUAI5Nqp",
        "outputId": "faf71fd6-d532-4f51-bd41-c2333492bbad"
      },
      "execution_count": null,
      "outputs": [
        {
          "output_type": "stream",
          "name": "stdout",
          "text": [
            "root\n",
            " |-- Regiao: string (nullable = true)\n",
            " |-- Estado: string (nullable = true)\n",
            " |-- Municipio: string (nullable = true)\n",
            " |-- Revenda: string (nullable = true)\n",
            " |-- Bairro: string (nullable = true)\n",
            " |-- Data_da_Coleta: date (nullable = true)\n",
            " |-- Valor_de_Venda: float (nullable = true)\n",
            " |-- Bandeira: string (nullable = true)\n",
            " |-- Ano: string (nullable = true)\n",
            " |-- Faixa_Preco: string (nullable = false)\n",
            "\n"
          ]
        }
      ]
    },
    {
      "cell_type": "code",
      "source": [
        "precogas.show(5)"
      ],
      "metadata": {
        "colab": {
          "base_uri": "https://localhost:8080/"
        },
        "id": "Wnnddj7BAe3e",
        "outputId": "c363690b-d2b9-472a-9bc7-0846e1a741fe"
      },
      "execution_count": null,
      "outputs": [
        {
          "output_type": "stream",
          "name": "stdout",
          "text": [
            "+------+------+-----------+--------------------+--------------+--------------+--------------+---------+----+-------------------+\n",
            "|Regiao|Estado|  Municipio|             Revenda|        Bairro|Data_da_Coleta|Valor_de_Venda| Bandeira| Ano|        Faixa_Preco|\n",
            "+------+------+-----------+--------------------+--------------+--------------+--------------+---------+----+-------------------+\n",
            "|    SE|    SP|SAO VICENTE|CONSIGAZ DISTRIBU...|CIDADE NAUTICA|    2021-12-01|         97.99| CONSIGAZ|2021| abaixo de R$100,00|\n",
            "|     N|    AC| RIO BRANCO|AUTO POSTO AMAPA ...|         AREAL|    2021-12-01|         115.0|    FOGAS|2021|   R$110,00 ou mais|\n",
            "|     N|    AC| RIO BRANCO|AUTO POSTO ACAUAN...|     VILA ACRE|    2021-12-01|         110.0|AMAZONGÁS|2021|   R$110,00 ou mais|\n",
            "|     N|    AC| RIO BRANCO|AUTO POSTO CANIND...|     VILA ACRE|    2021-12-01|         115.0|AMAZONGÁS|2021|   R$110,00 ou mais|\n",
            "|     N|    AC| RIO BRANCO|AUTO POSTO AEROPO...|        COMARA|    2021-12-01|         115.0|AMAZONGÁS|2021|   R$110,00 ou mais|\n",
            "+------+------+-----------+--------------------+--------------+--------------+--------------+---------+----+-------------------+\n",
            "only showing top 5 rows\n",
            "\n"
          ]
        }
      ]
    },
    {
      "cell_type": "code",
      "source": [
        "# Verificando valores faltantes e medidas descritivas\n",
        "precogas.describe().show()"
      ],
      "metadata": {
        "colab": {
          "base_uri": "https://localhost:8080/"
        },
        "id": "KySzDqkezRP-",
        "outputId": "5ca82685-3fda-495c-d34e-2493ead2c3bc"
      },
      "execution_count": null,
      "outputs": [
        {
          "output_type": "stream",
          "name": "stdout",
          "text": [
            "+-------+------+------+----------+--------------------+---------------+------------------+---------+------+-------------------+\n",
            "|summary|Regiao|Estado| Municipio|             Revenda|         Bairro|    Valor_de_Venda| Bandeira|   Ano|        Faixa_Preco|\n",
            "+-------+------+------+----------+--------------------+---------------+------------------+---------+------+-------------------+\n",
            "|  count| 15765| 15765|     15765|               15765|          15764|             15765|    15765| 15765|              15765|\n",
            "|   mean|  null|  null|      null|                null|           null|103.29313201371957|     null|2021.0|               null|\n",
            "| stddev|  null|  null|      null|                null|           null| 8.951108633678142|     null|   0.0|               null|\n",
            "|    min|    CO|    AC|ABAETETUBA| CAINELLI BEBIDAS...| 15 DE NOVEMBRO|             77.99|AMAZONGÁS|  2021| abaixo de R$100,00|\n",
            "|    max|    SE|    TO|   XANXERE|ÍNDIO COMÉRCIO DE...|ÁGUAS COMPRIDAS|             140.0| ULTRAGAZ|  2021|de R$100 a R$109,99|\n",
            "+-------+------+------+----------+--------------------+---------------+------------------+---------+------+-------------------+\n",
            "\n"
          ]
        }
      ]
    },
    {
      "cell_type": "markdown",
      "source": [
        "Foi observado um valor faltante na variável Bairro, que corresponde à uma venda no estado do Pará no dia 28/12/2021."
      ],
      "metadata": {
        "id": "Pls_mnkLA3DS"
      }
    },
    {
      "cell_type": "code",
      "source": [
        "precogas.filter(precogas['Bairro'].isNull()).show()"
      ],
      "metadata": {
        "colab": {
          "base_uri": "https://localhost:8080/"
        },
        "id": "Lfghlvaw0Kav",
        "outputId": "08978467-3546-45d9-be83-d1dfcbe734e8"
      },
      "execution_count": null,
      "outputs": [
        {
          "output_type": "stream",
          "name": "stdout",
          "text": [
            "+------+------+----------+--------------------+------+--------------+--------------+--------+----+-------------------+\n",
            "|Regiao|Estado| Municipio|             Revenda|Bairro|Data_da_Coleta|Valor_de_Venda|Bandeira| Ano|        Faixa_Preco|\n",
            "+------+------+----------+--------------------+------+--------------+--------------+--------+----+-------------------+\n",
            "|     N|    PA|ABAETETUBA|E CARVALHO COMERC...|  null|    2021-12-28|         105.0|  BRANCA|2021|de R$100 a R$109,99|\n",
            "+------+------+----------+--------------------+------+--------------+--------------+--------+----+-------------------+\n",
            "\n"
          ]
        }
      ]
    },
    {
      "cell_type": "markdown",
      "source": [
        "## **Filtrando linhas de um SparkDataFrame**"
      ],
      "metadata": {
        "id": "rPZsm-olbS9k"
      }
    },
    {
      "cell_type": "code",
      "source": [
        "# Selecionando somente as cotações realizadas na cidade de Salvador\n",
        "precogas.filter(precogas.Municipio == 'SALVADOR').show(5)"
      ],
      "metadata": {
        "colab": {
          "base_uri": "https://localhost:8080/"
        },
        "id": "3KQMJA8Yc_sr",
        "outputId": "415181cd-17d8-47f1-d98b-bac8aeaa8dca"
      },
      "execution_count": null,
      "outputs": [
        {
          "output_type": "stream",
          "name": "stdout",
          "text": [
            "+------+------+---------+--------------------+------------+--------------+--------------+--------------------+----+-------------------+\n",
            "|Regiao|Estado|Municipio|             Revenda|      Bairro|Data_da_Coleta|Valor_de_Venda|            Bandeira| Ano|        Faixa_Preco|\n",
            "+------+------+---------+--------------------+------------+--------------+--------------+--------------------+----+-------------------+\n",
            "|    NE|    BA| SALVADOR|NADIR DE ALMEIDA ...|  DOM AVELAR|    2021-12-01|          94.0|SUPERGASBRAS ENERGIA|2021| abaixo de R$100,00|\n",
            "|    NE|    BA| SALVADOR|PAU DA LIMA COMER...| PAU DA LIMA|    2021-12-01|         96.99|             BAHIANA|2021| abaixo de R$100,00|\n",
            "|    NE|    BA| SALVADOR|     BINHO GÁS LTDA.|  DOM AVELAR|    2021-12-01|          95.0|             BAHIANA|2021| abaixo de R$100,00|\n",
            "|    NE|    BA| SALVADOR|ÁGUAS CLARAS GÁS ...|ÁGUAS CLARAS|    2021-12-01|         89.99|             BAHIANA|2021| abaixo de R$100,00|\n",
            "|    NE|    BA| SALVADOR|ANTONIO REBOUCAS ...|  PERNAMBUES|    2021-12-01|         93.99|             BAHIANA|2021| abaixo de R$100,00|\n",
            "+------+------+---------+--------------------+------------+--------------+--------------+--------------------+----+-------------------+\n",
            "only showing top 5 rows\n",
            "\n"
          ]
        }
      ]
    },
    {
      "cell_type": "code",
      "source": [
        "# Selecionando somente as cotações realizadas no ACRE OU na BAHIA\n",
        "precogas.filter(\n",
        "    (precogas['Estado'] == 'AC') |\n",
        "    (precogas['Estado'] == 'BA')\n",
        "    ).show(5)"
      ],
      "metadata": {
        "colab": {
          "base_uri": "https://localhost:8080/"
        },
        "id": "1_BUQlu1nlZO",
        "outputId": "8ecc1fc1-fe72-4ecb-ed2e-97e460c37b41"
      },
      "execution_count": null,
      "outputs": [
        {
          "output_type": "stream",
          "name": "stdout",
          "text": [
            "+------+------+----------+--------------------+----------+--------------+--------------+--------------------+----+-------------------+\n",
            "|Regiao|Estado| Municipio|             Revenda|    Bairro|Data_da_Coleta|Valor_de_Venda|            Bandeira| Ano|        Faixa_Preco|\n",
            "+------+------+----------+--------------------+----------+--------------+--------------+--------------------+----+-------------------+\n",
            "|     N|    AC|RIO BRANCO|AUTO POSTO AMAPA ...|     AREAL|    2021-12-01|         115.0|               FOGAS|2021|   R$110,00 ou mais|\n",
            "|     N|    AC|RIO BRANCO|AUTO POSTO ACAUAN...| VILA ACRE|    2021-12-01|         110.0|           AMAZONGÁS|2021|   R$110,00 ou mais|\n",
            "|     N|    AC|RIO BRANCO|AUTO POSTO CANIND...| VILA ACRE|    2021-12-01|         115.0|           AMAZONGÁS|2021|   R$110,00 ou mais|\n",
            "|     N|    AC|RIO BRANCO|AUTO POSTO AEROPO...|    COMARA|    2021-12-01|         115.0|           AMAZONGÁS|2021|   R$110,00 ou mais|\n",
            "|    NE|    BA|  SALVADOR|NADIR DE ALMEIDA ...|DOM AVELAR|    2021-12-01|          94.0|SUPERGASBRAS ENERGIA|2021| abaixo de R$100,00|\n",
            "+------+------+----------+--------------------+----------+--------------+--------------+--------------------+----+-------------------+\n",
            "only showing top 5 rows\n",
            "\n"
          ]
        }
      ]
    },
    {
      "cell_type": "code",
      "source": [
        "# Selecionando somente as cotações no estado de São Paulo no dia 10/12/2021\n",
        "precogas.filter(\n",
        "    (col('Estado') == 'SP') &\n",
        "    (col('Data_da_Coleta') == '2021-12-10')\n",
        "    ).show()"
      ],
      "metadata": {
        "colab": {
          "base_uri": "https://localhost:8080/"
        },
        "id": "MjK5CzKjkytT",
        "outputId": "af80d119-6db0-496f-f947-89ddbe308b8e"
      },
      "execution_count": null,
      "outputs": [
        {
          "output_type": "stream",
          "name": "stdout",
          "text": [
            "+------+------+---------+--------------------+--------------------+--------------+--------------+--------------------+----+-------------------+\n",
            "|Regiao|Estado|Municipio|             Revenda|              Bairro|Data_da_Coleta|Valor_de_Venda|            Bandeira| Ano|        Faixa_Preco|\n",
            "+------+------+---------+--------------------+--------------------+--------------+--------------+--------------------+----+-------------------+\n",
            "|    SE|    SP| IBITINGA|COMERCIO DE GAS S...|    DISTR.INDUSTRIAL|    2021-12-10|         110.0|            LIQUIGÁS|2021|   R$110,00 ou mais|\n",
            "|    SE|    SP|     TUPA|MARIANE CAMBAUVA ...|         VILA VARGAS|    2021-12-10|          95.0|SUPERGASBRAS ENERGIA|2021| abaixo de R$100,00|\n",
            "|    SE|    SP| IBITINGA|JOEL MENDES NETO ...|      JD PAINEIRAS I|    2021-12-10|         119.0|SUPERGASBRAS ENERGIA|2021|   R$110,00 ou mais|\n",
            "|    SE|    SP| IBITINGA|HERIADINE CAROLIN...|              CENTRO|    2021-12-10|         120.0|            ULTRAGAZ|2021|   R$110,00 ou mais|\n",
            "|    SE|    SP|     TUPA|FLAVIANA RIBEIRO ...|      CHACARA VELINI|    2021-12-10|         100.0|              BRANCA|2021|de R$100 a R$109,99|\n",
            "|    SE|    SP|     TUPA|ALIETE GOMES JUNQ...|     JARDIM RUBIACEA|    2021-12-10|          95.0|SUPERGASBRAS ENERGIA|2021| abaixo de R$100,00|\n",
            "|    SE|    SP| IBITINGA|JANIRA APARECIDA ...|DISTRITO INDUSTRI...|    2021-12-10|         110.0|              BRANCA|2021|   R$110,00 ou mais|\n",
            "|    SE|    SP|     TUPA|JOAO GUILHERME RI...|         VILA VARGAS|    2021-12-10|          98.0|              BRANCA|2021| abaixo de R$100,00|\n",
            "|    SE|    SP|     TUPA|LCM COMERCIO DE G...|        VILA ESPANHA|    2021-12-10|          95.0|SUPERGASBRAS ENERGIA|2021| abaixo de R$100,00|\n",
            "|    SE|    SP| IBITINGA|MARIA DE FATIMA J...|CONJ. HAB. JD. PA...|    2021-12-10|         110.0|              BRANCA|2021|   R$110,00 ou mais|\n",
            "|    SE|    SP|     TUPA|MARIA CELINA NEVE...|              CENTRO|    2021-12-10|         105.0|              BRANCA|2021|de R$100 a R$109,99|\n",
            "+------+------+---------+--------------------+--------------------+--------------+--------------+--------------------+----+-------------------+\n",
            "\n"
          ]
        }
      ]
    },
    {
      "cell_type": "code",
      "source": [
        "# Selecionando somente as cotações no estado da Bahia com preço abaixo de R$80\n",
        "precogas.filter(\n",
        "    (precogas['Estado'] == 'BA') &\n",
        "    (precogas['Valor_de_Venda'] < 80)\n",
        "    ).show(5)"
      ],
      "metadata": {
        "colab": {
          "base_uri": "https://localhost:8080/"
        },
        "id": "J_fbVe91oUrc",
        "outputId": "24454c47-88fa-40f1-f369-cba12e7a2718"
      },
      "execution_count": null,
      "outputs": [
        {
          "output_type": "stream",
          "name": "stdout",
          "text": [
            "+------+------+----------------+--------------------+----------------+--------------+--------------+--------------------+----+-------------------+\n",
            "|Regiao|Estado|       Municipio|             Revenda|          Bairro|Data_da_Coleta|Valor_de_Venda|            Bandeira| Ano|        Faixa_Preco|\n",
            "+------+------+----------------+--------------------+----------------+--------------+--------------+--------------------+----+-------------------+\n",
            "|    NE|    BA|LAURO DE FREITAS|NASCIMENTO GAS EI...|PARQUE SAO PAULO|    2021-12-21|         77.99|SUPERGASBRAS ENERGIA|2021| abaixo de R$100,00|\n",
            "+------+------+----------------+--------------------+----------------+--------------+--------------+--------------------+----+-------------------+\n",
            "\n"
          ]
        }
      ]
    },
    {
      "cell_type": "code",
      "source": [
        "# Filtrando linhas com where\n",
        "precogas.where(\n",
        "    (col('Estado') == 'BA') &\n",
        "    (col('Valor_de_Venda') < 85)\n",
        "    ).show(5)"
      ],
      "metadata": {
        "colab": {
          "base_uri": "https://localhost:8080/"
        },
        "id": "3sS5NlRFTf8-",
        "outputId": "34cac22a-b407-4ac9-f924-6bde9d0f86b3"
      },
      "execution_count": null,
      "outputs": [
        {
          "output_type": "stream",
          "name": "stdout",
          "text": [
            "+------+------+---------+--------------------+--------------+--------------+--------------+--------------------+----+-------------------+\n",
            "|Regiao|Estado|Municipio|             Revenda|        Bairro|Data_da_Coleta|Valor_de_Venda|            Bandeira| Ano|        Faixa_Preco|\n",
            "+------+------+---------+--------------------+--------------+--------------+--------------+--------------------+----+-------------------+\n",
            "|    NE|    BA| SALVADOR|CRISPIM SOUZA COM...|  ÁGUAS CLARAS|    2021-12-01|         84.99|SUPERGASBRAS ENERGIA|2021| abaixo de R$100,00|\n",
            "|    NE|    BA| SALVADOR|AMÂNCIA DE OLIVEI...|CASTELO BRANCO|    2021-12-01|         84.99|             BAHIANA|2021| abaixo de R$100,00|\n",
            "|    NE|    BA| SALVADOR|QUERO GÁS COMERCI...|  AGUAS CLARAS|    2021-12-01|          84.0|SUPERGASBRAS ENERGIA|2021| abaixo de R$100,00|\n",
            "|    NE|    BA| SALVADOR|ERICA BARBOSA LISBOA|    PERNAMBUES|    2021-12-01|          82.0|             BAHIANA|2021| abaixo de R$100,00|\n",
            "|    NE|    BA| SALVADOR|FILIPE LIMA DOS S...|  AGUAS CLARAS|    2021-12-01|         84.99| NACIONAL GÁS BUTANO|2021| abaixo de R$100,00|\n",
            "+------+------+---------+--------------------+--------------+--------------+--------------+--------------------+----+-------------------+\n",
            "only showing top 5 rows\n",
            "\n"
          ]
        }
      ]
    },
    {
      "cell_type": "markdown",
      "source": [
        "## **Medidas resumos de variáveis numéricas de um SparkDataFrame**"
      ],
      "metadata": {
        "id": "FB_8S9kkNnDn"
      }
    },
    {
      "cell_type": "markdown",
      "source": [
        "Em grandes bases de dados há uma demanda maior de tempo computacional para calcular quantis, uma opção é limitar o cálculo somente para estatísticas de interesse."
      ],
      "metadata": {
        "id": "PcLO9_-t8rPx"
      }
    },
    {
      "cell_type": "code",
      "source": [
        "# Algumas estatísticas individuais\n",
        "precogas.select(\n",
        "  format_number(mean('Valor_de_Venda'), 2).alias('Preço médio'),\n",
        "  format_number(min('Valor_de_Venda'), 2).alias('Preço Mínimo'),\n",
        "  format_number(percentile_approx('Valor_de_Venda', 0.25), 2).alias('Q1 do Preço'),\n",
        "  format_number(percentile_approx('Valor_de_Venda', 0.5), 2).alias('Preço Mediano'),\n",
        "  format_number(percentile_approx('Valor_de_Venda', 0.75), 2).alias('Q3 do Preço'),\n",
        "  format_number(max('Valor_de_Venda'), 2).alias('Preço Máximo')\n",
        ").show()"
      ],
      "metadata": {
        "colab": {
          "base_uri": "https://localhost:8080/"
        },
        "id": "VV3gplq8TfjI",
        "outputId": "608661ef-c187-4a40-ed6f-dcc5ed7bffff"
      },
      "execution_count": null,
      "outputs": [
        {
          "output_type": "stream",
          "name": "stdout",
          "text": [
            "+-----------+------------+-----------+-------------+-----------+------------+\n",
            "|Preço médio|Preço Mínimo|Q1 do Preço|Preço Mediano|Q3 do Preço|Preço Máximo|\n",
            "+-----------+------------+-----------+-------------+-----------+------------+\n",
            "|     103.29|       77.99|      97.99|       102.00|     110.00|      140.00|\n",
            "+-----------+------------+-----------+-------------+-----------+------------+\n",
            "\n"
          ]
        }
      ]
    },
    {
      "cell_type": "markdown",
      "source": [
        "## **Tabelas de Frequências no PySpark**"
      ],
      "metadata": {
        "id": "42xkMcNGKvJ3"
      }
    },
    {
      "cell_type": "code",
      "source": [
        "# Quantas cotações foram realizadas por região do Brasil\n",
        "precogas.groupBy('Regiao').count().orderBy(col('count').desc()).show()"
      ],
      "metadata": {
        "colab": {
          "base_uri": "https://localhost:8080/"
        },
        "id": "xeV1Pn-fKt2k",
        "outputId": "a2054b66-719d-4bd6-fef2-319c7b2f597e"
      },
      "execution_count": null,
      "outputs": [
        {
          "output_type": "stream",
          "name": "stdout",
          "text": [
            "+------+-----+\n",
            "|Regiao|count|\n",
            "+------+-----+\n",
            "|    SE| 6905|\n",
            "|     S| 3037|\n",
            "|    NE| 2621|\n",
            "|    CO| 1718|\n",
            "|     N| 1484|\n",
            "+------+-----+\n",
            "\n"
          ]
        }
      ]
    },
    {
      "cell_type": "markdown",
      "source": [
        "A maior cotação de vendas do botijão de gás de cozinha de 13kg foi na região Sudeste, seguida pela região Sul. A menor cotação foi na região Norte."
      ],
      "metadata": {
        "id": "bQGbNPZBCYTa"
      }
    },
    {
      "cell_type": "code",
      "source": [
        "# Cotações por Estados cruzados por Regioes do Brasil\n",
        "precogas.crosstab('Regiao','Estado').show(27)"
      ],
      "metadata": {
        "colab": {
          "base_uri": "https://localhost:8080/"
        },
        "id": "ZidDqm4JN4Vj",
        "outputId": "3ca27c16-29e4-41d6-f5bc-defca6f0e250"
      },
      "execution_count": null,
      "outputs": [
        {
          "output_type": "stream",
          "name": "stdout",
          "text": [
            "+-------------+---+---+---+---+---+---+---+---+---+---+----+---+---+---+---+---+---+----+---+---+---+---+----+---+---+----+---+\n",
            "|Regiao_Estado| AC| AL| AM| AP| BA| CE| DF| ES| GO| MA|  MG| MS| MT| PA| PB| PE| PI|  PR| RJ| RN| RO| RR|  RS| SC| SE|  SP| TO|\n",
            "+-------------+---+---+---+---+---+---+---+---+---+---+----+---+---+---+---+---+---+----+---+---+---+---+----+---+---+----+---+\n",
            "|            N|114|  0|171| 44|  0|  0|  0|  0|  0|  0|   0|  0|  0|564|  0|  0|  0|   0|  0|  0|178| 97|   0|  0|  0|   0|316|\n",
            "|           NE|  0| 71|  0|  0|558|573|  0|  0|  0|144|   0|  0|  0|  0|223|668|137|   0|  0|158|  0|  0|   0|  0| 89|   0|  0|\n",
            "|           SE|  0|  0|  0|  0|  0|  0|  0|399|  0|  0|1702|  0|  0|  0|  0|  0|  0|   0|808|  0|  0|  0|   0|  0|  0|3996|  0|\n",
            "|           CO|  0|  0|  0|  0|  0|  0|210|  0|663|  0|   0|437|408|  0|  0|  0|  0|   0|  0|  0|  0|  0|   0|  0|  0|   0|  0|\n",
            "|            S|  0|  0|  0|  0|  0|  0|  0|  0|  0|  0|   0|  0|  0|  0|  0|  0|  0|1317|  0|  0|  0|  0|1469|251|  0|   0|  0|\n",
            "+-------------+---+---+---+---+---+---+---+---+---+---+----+---+---+---+---+---+---+----+---+---+---+---+----+---+---+----+---+\n",
            "\n"
          ]
        }
      ]
    },
    {
      "cell_type": "markdown",
      "source": [
        "## **Análise Estratificada com SparkDataFrame**"
      ],
      "metadata": {
        "id": "GhXRoOcJXRuN"
      }
    },
    {
      "cell_type": "code",
      "source": [
        "# Verificando o preço médio por Região do Brasil\n",
        "precogas.groupBy('Regiao').agg(\n",
        "    format_number(mean('Valor_de_Venda'), 2).alias('Preço médio')\n",
        ").orderBy(col('Preço médio').cast('float'), ascending=True).show()"
      ],
      "metadata": {
        "colab": {
          "base_uri": "https://localhost:8080/"
        },
        "id": "k6crjB6GHmLU",
        "outputId": "a65cffe5-6d4e-4d37-c338-7e30a89ce89f"
      },
      "execution_count": null,
      "outputs": [
        {
          "output_type": "stream",
          "name": "stdout",
          "text": [
            "+------+-----------+\n",
            "|Regiao|Preço médio|\n",
            "+------+-----------+\n",
            "|    NE|      99.86|\n",
            "|    SE|     101.13|\n",
            "|     S|     104.39|\n",
            "|    CO|     108.28|\n",
            "|     N|     111.42|\n",
            "+------+-----------+\n",
            "\n"
          ]
        }
      ]
    },
    {
      "cell_type": "markdown",
      "source": [
        "Em dezembro de 2021, a região Nordeste apresentou o menor preço médio do gás de cozinha."
      ],
      "metadata": {
        "id": "uuPWC28tCxQR"
      }
    },
    {
      "cell_type": "code",
      "source": [
        "# Verificando o preço médio por estado do Brasil\n",
        "precogas.groupBy('Estado').agg(\n",
        "    format_number(mean('Valor_de_Venda'), 2).alias('Preço médio')\n",
        ").orderBy(col('Preço médio').cast('float'), ascending=True).show(27)"
      ],
      "metadata": {
        "colab": {
          "base_uri": "https://localhost:8080/"
        },
        "id": "5vyifdQsNA4r",
        "outputId": "f3e245de-cad9-4c02-9d71-8850a753755d"
      },
      "execution_count": null,
      "outputs": [
        {
          "output_type": "stream",
          "name": "stdout",
          "text": [
            "+------+-----------+\n",
            "|Estado|Preço médio|\n",
            "+------+-----------+\n",
            "|    RJ|      92.79|\n",
            "|    PE|      94.42|\n",
            "|    BA|      95.69|\n",
            "|    SE|      95.82|\n",
            "|    ES|      96.96|\n",
            "|    DF|      98.24|\n",
            "|    AL|      99.12|\n",
            "|    MS|     100.52|\n",
            "|    SP|     101.56|\n",
            "|    RS|     101.74|\n",
            "|    MA|     102.56|\n",
            "|    CE|     104.07|\n",
            "|    MG|     105.06|\n",
            "|    PB|     105.35|\n",
            "|    PR|     106.15|\n",
            "|    PI|     106.93|\n",
            "|    AM|     107.40|\n",
            "|    GO|     107.74|\n",
            "|    PA|     107.94|\n",
            "|    RN|     108.60|\n",
            "|    SC|     110.62|\n",
            "|    RR|     111.66|\n",
            "|    TO|     113.07|\n",
            "|    AP|     115.98|\n",
            "|    AC|     117.11|\n",
            "|    RO|     118.49|\n",
            "|    MT|     122.62|\n",
            "+------+-----------+\n",
            "\n"
          ]
        }
      ]
    },
    {
      "cell_type": "markdown",
      "source": [
        "Ao analisar por estados, Rio de Janeiro e Pernambuco são os estados com menor preço médio do gás de cozinha. No estado do Mato Grosso, o preço médio do produto é de 122,62 reais, o maior valor observado."
      ],
      "metadata": {
        "id": "eyO1ZxgGDOVP"
      }
    },
    {
      "cell_type": "code",
      "source": [
        "# Verificando o estado com o menor preço do gás\n",
        "\n",
        "precogas.groupBy('Estado').agg(\n",
        "    format_number(min('Valor_de_Venda'), 2).alias('Preço mínimo')\n",
        ").orderBy(col('Preço mínimo').cast('float'), ascending=True).show(5)\n"
      ],
      "metadata": {
        "colab": {
          "base_uri": "https://localhost:8080/"
        },
        "id": "_FTOJgszH9iN",
        "outputId": "11cda47b-1bf0-4e52-ca5a-63edb2d83be9"
      },
      "execution_count": null,
      "outputs": [
        {
          "output_type": "stream",
          "name": "stdout",
          "text": [
            "+------+------------+\n",
            "|Estado|Preço mínimo|\n",
            "+------+------------+\n",
            "|    BA|       77.99|\n",
            "|    RJ|       78.00|\n",
            "|    ES|       79.99|\n",
            "|    SP|       79.99|\n",
            "|    PE|       79.99|\n",
            "+------+------------+\n",
            "only showing top 5 rows\n",
            "\n"
          ]
        }
      ]
    },
    {
      "cell_type": "code",
      "source": [
        "# Verificando o preço médio por Bandeira\n",
        "precogas.groupBy('Bandeira').agg(\n",
        "    format_number(mean('Valor_de_Venda'), 2).alias('Preço médio')\n",
        ").orderBy(col('Preço médio').cast('float'), ascending=True).show()"
      ],
      "metadata": {
        "colab": {
          "base_uri": "https://localhost:8080/"
        },
        "id": "aT4p4qedNrhL",
        "outputId": "ee47df67-f4b3-4028-9804-126bff05db7f"
      },
      "execution_count": null,
      "outputs": [
        {
          "output_type": "stream",
          "name": "stdout",
          "text": [
            "+--------------------+-----------+\n",
            "|            Bandeira|Preço médio|\n",
            "+--------------------+-----------+\n",
            "|            MINASGAS|      97.77|\n",
            "|             BAHIANA|      99.81|\n",
            "|            CONSIGAZ|      99.98|\n",
            "|   NGC DISTRIBUIDORA|     100.44|\n",
            "|             SERVGÁS|     100.56|\n",
            "|              BRANCA|     102.24|\n",
            "|SUPERGASBRAS ENERGIA|     102.44|\n",
            "| NACIONAL GÁS BUTANO|     102.99|\n",
            "|            LIQUIGÁS|     104.43|\n",
            "|            ULTRAGAZ|     104.55|\n",
            "|             COPAGAZ|     104.59|\n",
            "|        SUPERGASBRAS|     110.00|\n",
            "|           AMAZONGÁS|     111.14|\n",
            "|               FOGAS|     112.45|\n",
            "+--------------------+-----------+\n",
            "\n"
          ]
        }
      ]
    },
    {
      "cell_type": "markdown",
      "source": [
        "## **Convertendo SparkDataFrame para PandasDataFrame**"
      ],
      "metadata": {
        "id": "mc7-8Lj3J7nn"
      }
    },
    {
      "cell_type": "markdown",
      "source": [
        "O SparkDataframe não tem métodos associados para fazer análises gráficas. Portanto, uma estratégia é transformar o resultado em um pandasDataFrame e utilizar os recursos das bibliotecas de gráficos, inlcuindo os métodos de gráficos do próprio Pandas."
      ],
      "metadata": {
        "id": "qa3oORplrHfU"
      }
    },
    {
      "cell_type": "code",
      "source": [
        "# Verificando o preço médio por Região do Brasil\n",
        "# transformando um objeto <class 'pyspark.sql.dataframe.DataFrame'> em pandas\n",
        "preco_por_regiao_pd = precogas.groupBy('Regiao').agg(\n",
        "    format_number(mean('Valor_de_Venda'), 2).alias('Preço médio')\n",
        ").orderBy(col('Preço médio').cast('float'), ascending=True).toPandas() # salvando num dataset para exportar\n",
        "\n",
        "# Verificando o tipo de objeto resultante\n",
        "print(type(preco_por_regiao_pd))\n",
        "preco_por_regiao_pd\n"
      ],
      "metadata": {
        "colab": {
          "base_uri": "https://localhost:8080/",
          "height": 224
        },
        "id": "UVDMb6QRzpy6",
        "outputId": "282c92e2-ec5d-4205-a2e9-f42be961a40d"
      },
      "execution_count": null,
      "outputs": [
        {
          "output_type": "stream",
          "name": "stdout",
          "text": [
            "<class 'pandas.core.frame.DataFrame'>\n"
          ]
        },
        {
          "output_type": "execute_result",
          "data": {
            "text/plain": [
              "  Regiao Preço médio\n",
              "0     NE       99.86\n",
              "1     SE      101.13\n",
              "2      S      104.39\n",
              "3     CO      108.28\n",
              "4      N      111.42"
            ],
            "text/html": [
              "\n",
              "  <div id=\"df-11a1f2ad-9027-4d70-ae7a-4690e8b45d0e\" class=\"colab-df-container\">\n",
              "    <div>\n",
              "<style scoped>\n",
              "    .dataframe tbody tr th:only-of-type {\n",
              "        vertical-align: middle;\n",
              "    }\n",
              "\n",
              "    .dataframe tbody tr th {\n",
              "        vertical-align: top;\n",
              "    }\n",
              "\n",
              "    .dataframe thead th {\n",
              "        text-align: right;\n",
              "    }\n",
              "</style>\n",
              "<table border=\"1\" class=\"dataframe\">\n",
              "  <thead>\n",
              "    <tr style=\"text-align: right;\">\n",
              "      <th></th>\n",
              "      <th>Regiao</th>\n",
              "      <th>Preço médio</th>\n",
              "    </tr>\n",
              "  </thead>\n",
              "  <tbody>\n",
              "    <tr>\n",
              "      <th>0</th>\n",
              "      <td>NE</td>\n",
              "      <td>99.86</td>\n",
              "    </tr>\n",
              "    <tr>\n",
              "      <th>1</th>\n",
              "      <td>SE</td>\n",
              "      <td>101.13</td>\n",
              "    </tr>\n",
              "    <tr>\n",
              "      <th>2</th>\n",
              "      <td>S</td>\n",
              "      <td>104.39</td>\n",
              "    </tr>\n",
              "    <tr>\n",
              "      <th>3</th>\n",
              "      <td>CO</td>\n",
              "      <td>108.28</td>\n",
              "    </tr>\n",
              "    <tr>\n",
              "      <th>4</th>\n",
              "      <td>N</td>\n",
              "      <td>111.42</td>\n",
              "    </tr>\n",
              "  </tbody>\n",
              "</table>\n",
              "</div>\n",
              "    <div class=\"colab-df-buttons\">\n",
              "\n",
              "  <div class=\"colab-df-container\">\n",
              "    <button class=\"colab-df-convert\" onclick=\"convertToInteractive('df-11a1f2ad-9027-4d70-ae7a-4690e8b45d0e')\"\n",
              "            title=\"Convert this dataframe to an interactive table.\"\n",
              "            style=\"display:none;\">\n",
              "\n",
              "  <svg xmlns=\"http://www.w3.org/2000/svg\" height=\"24px\" viewBox=\"0 -960 960 960\">\n",
              "    <path d=\"M120-120v-720h720v720H120Zm60-500h600v-160H180v160Zm220 220h160v-160H400v160Zm0 220h160v-160H400v160ZM180-400h160v-160H180v160Zm440 0h160v-160H620v160ZM180-180h160v-160H180v160Zm440 0h160v-160H620v160Z\"/>\n",
              "  </svg>\n",
              "    </button>\n",
              "\n",
              "  <style>\n",
              "    .colab-df-container {\n",
              "      display:flex;\n",
              "      gap: 12px;\n",
              "    }\n",
              "\n",
              "    .colab-df-convert {\n",
              "      background-color: #E8F0FE;\n",
              "      border: none;\n",
              "      border-radius: 50%;\n",
              "      cursor: pointer;\n",
              "      display: none;\n",
              "      fill: #1967D2;\n",
              "      height: 32px;\n",
              "      padding: 0 0 0 0;\n",
              "      width: 32px;\n",
              "    }\n",
              "\n",
              "    .colab-df-convert:hover {\n",
              "      background-color: #E2EBFA;\n",
              "      box-shadow: 0px 1px 2px rgba(60, 64, 67, 0.3), 0px 1px 3px 1px rgba(60, 64, 67, 0.15);\n",
              "      fill: #174EA6;\n",
              "    }\n",
              "\n",
              "    .colab-df-buttons div {\n",
              "      margin-bottom: 4px;\n",
              "    }\n",
              "\n",
              "    [theme=dark] .colab-df-convert {\n",
              "      background-color: #3B4455;\n",
              "      fill: #D2E3FC;\n",
              "    }\n",
              "\n",
              "    [theme=dark] .colab-df-convert:hover {\n",
              "      background-color: #434B5C;\n",
              "      box-shadow: 0px 1px 3px 1px rgba(0, 0, 0, 0.15);\n",
              "      filter: drop-shadow(0px 1px 2px rgba(0, 0, 0, 0.3));\n",
              "      fill: #FFFFFF;\n",
              "    }\n",
              "  </style>\n",
              "\n",
              "    <script>\n",
              "      const buttonEl =\n",
              "        document.querySelector('#df-11a1f2ad-9027-4d70-ae7a-4690e8b45d0e button.colab-df-convert');\n",
              "      buttonEl.style.display =\n",
              "        google.colab.kernel.accessAllowed ? 'block' : 'none';\n",
              "\n",
              "      async function convertToInteractive(key) {\n",
              "        const element = document.querySelector('#df-11a1f2ad-9027-4d70-ae7a-4690e8b45d0e');\n",
              "        const dataTable =\n",
              "          await google.colab.kernel.invokeFunction('convertToInteractive',\n",
              "                                                    [key], {});\n",
              "        if (!dataTable) return;\n",
              "\n",
              "        const docLinkHtml = 'Like what you see? Visit the ' +\n",
              "          '<a target=\"_blank\" href=https://colab.research.google.com/notebooks/data_table.ipynb>data table notebook</a>'\n",
              "          + ' to learn more about interactive tables.';\n",
              "        element.innerHTML = '';\n",
              "        dataTable['output_type'] = 'display_data';\n",
              "        await google.colab.output.renderOutput(dataTable, element);\n",
              "        const docLink = document.createElement('div');\n",
              "        docLink.innerHTML = docLinkHtml;\n",
              "        element.appendChild(docLink);\n",
              "      }\n",
              "    </script>\n",
              "  </div>\n",
              "\n",
              "\n",
              "<div id=\"df-0cd8788d-1856-461a-b46f-2c4b85c52f97\">\n",
              "  <button class=\"colab-df-quickchart\" onclick=\"quickchart('df-0cd8788d-1856-461a-b46f-2c4b85c52f97')\"\n",
              "            title=\"Suggest charts.\"\n",
              "            style=\"display:none;\">\n",
              "\n",
              "<svg xmlns=\"http://www.w3.org/2000/svg\" height=\"24px\"viewBox=\"0 0 24 24\"\n",
              "     width=\"24px\">\n",
              "    <g>\n",
              "        <path d=\"M19 3H5c-1.1 0-2 .9-2 2v14c0 1.1.9 2 2 2h14c1.1 0 2-.9 2-2V5c0-1.1-.9-2-2-2zM9 17H7v-7h2v7zm4 0h-2V7h2v10zm4 0h-2v-4h2v4z\"/>\n",
              "    </g>\n",
              "</svg>\n",
              "  </button>\n",
              "\n",
              "<style>\n",
              "  .colab-df-quickchart {\n",
              "      --bg-color: #E8F0FE;\n",
              "      --fill-color: #1967D2;\n",
              "      --hover-bg-color: #E2EBFA;\n",
              "      --hover-fill-color: #174EA6;\n",
              "      --disabled-fill-color: #AAA;\n",
              "      --disabled-bg-color: #DDD;\n",
              "  }\n",
              "\n",
              "  [theme=dark] .colab-df-quickchart {\n",
              "      --bg-color: #3B4455;\n",
              "      --fill-color: #D2E3FC;\n",
              "      --hover-bg-color: #434B5C;\n",
              "      --hover-fill-color: #FFFFFF;\n",
              "      --disabled-bg-color: #3B4455;\n",
              "      --disabled-fill-color: #666;\n",
              "  }\n",
              "\n",
              "  .colab-df-quickchart {\n",
              "    background-color: var(--bg-color);\n",
              "    border: none;\n",
              "    border-radius: 50%;\n",
              "    cursor: pointer;\n",
              "    display: none;\n",
              "    fill: var(--fill-color);\n",
              "    height: 32px;\n",
              "    padding: 0;\n",
              "    width: 32px;\n",
              "  }\n",
              "\n",
              "  .colab-df-quickchart:hover {\n",
              "    background-color: var(--hover-bg-color);\n",
              "    box-shadow: 0 1px 2px rgba(60, 64, 67, 0.3), 0 1px 3px 1px rgba(60, 64, 67, 0.15);\n",
              "    fill: var(--button-hover-fill-color);\n",
              "  }\n",
              "\n",
              "  .colab-df-quickchart-complete:disabled,\n",
              "  .colab-df-quickchart-complete:disabled:hover {\n",
              "    background-color: var(--disabled-bg-color);\n",
              "    fill: var(--disabled-fill-color);\n",
              "    box-shadow: none;\n",
              "  }\n",
              "\n",
              "  .colab-df-spinner {\n",
              "    border: 2px solid var(--fill-color);\n",
              "    border-color: transparent;\n",
              "    border-bottom-color: var(--fill-color);\n",
              "    animation:\n",
              "      spin 1s steps(1) infinite;\n",
              "  }\n",
              "\n",
              "  @keyframes spin {\n",
              "    0% {\n",
              "      border-color: transparent;\n",
              "      border-bottom-color: var(--fill-color);\n",
              "      border-left-color: var(--fill-color);\n",
              "    }\n",
              "    20% {\n",
              "      border-color: transparent;\n",
              "      border-left-color: var(--fill-color);\n",
              "      border-top-color: var(--fill-color);\n",
              "    }\n",
              "    30% {\n",
              "      border-color: transparent;\n",
              "      border-left-color: var(--fill-color);\n",
              "      border-top-color: var(--fill-color);\n",
              "      border-right-color: var(--fill-color);\n",
              "    }\n",
              "    40% {\n",
              "      border-color: transparent;\n",
              "      border-right-color: var(--fill-color);\n",
              "      border-top-color: var(--fill-color);\n",
              "    }\n",
              "    60% {\n",
              "      border-color: transparent;\n",
              "      border-right-color: var(--fill-color);\n",
              "    }\n",
              "    80% {\n",
              "      border-color: transparent;\n",
              "      border-right-color: var(--fill-color);\n",
              "      border-bottom-color: var(--fill-color);\n",
              "    }\n",
              "    90% {\n",
              "      border-color: transparent;\n",
              "      border-bottom-color: var(--fill-color);\n",
              "    }\n",
              "  }\n",
              "</style>\n",
              "\n",
              "  <script>\n",
              "    async function quickchart(key) {\n",
              "      const quickchartButtonEl =\n",
              "        document.querySelector('#' + key + ' button');\n",
              "      quickchartButtonEl.disabled = true;  // To prevent multiple clicks.\n",
              "      quickchartButtonEl.classList.add('colab-df-spinner');\n",
              "      try {\n",
              "        const charts = await google.colab.kernel.invokeFunction(\n",
              "            'suggestCharts', [key], {});\n",
              "      } catch (error) {\n",
              "        console.error('Error during call to suggestCharts:', error);\n",
              "      }\n",
              "      quickchartButtonEl.classList.remove('colab-df-spinner');\n",
              "      quickchartButtonEl.classList.add('colab-df-quickchart-complete');\n",
              "    }\n",
              "    (() => {\n",
              "      let quickchartButtonEl =\n",
              "        document.querySelector('#df-0cd8788d-1856-461a-b46f-2c4b85c52f97 button');\n",
              "      quickchartButtonEl.style.display =\n",
              "        google.colab.kernel.accessAllowed ? 'block' : 'none';\n",
              "    })();\n",
              "  </script>\n",
              "</div>\n",
              "    </div>\n",
              "  </div>\n"
            ]
          },
          "metadata": {},
          "execution_count": 43
        }
      ]
    },
    {
      "cell_type": "code",
      "source": [
        "# Informações de preço e Regiao\n",
        "preco_regiao = precogas.select(col('Regiao').alias('Região'), col('Valor_de_Venda').alias('Preço')).toPandas()\n",
        "\n",
        "# Importando as bibliotecas graficas\n",
        "import seaborn as sns\n",
        "import matplotlib.pyplot as plt\n",
        "\n",
        "# Gerando o boxplot\n",
        "plt.figure(figsize = (8,8))\n",
        "sns.boxplot(data=preco_regiao, y = 'Preço', x = 'Região',\n",
        "            orient = 'v', palette = 'Set2', fliersize = 1,\n",
        "            width=0.5, saturation=1)\n",
        "plt.title('Figura 1: Boxplot do preço do gás por Região')\n",
        "plt.show()"
      ],
      "metadata": {
        "id": "QGL4J0ARw-uy",
        "colab": {
          "base_uri": "https://localhost:8080/",
          "height": 719
        },
        "outputId": "a08e8073-91f9-4d83-8b92-ac8a7fe25a57"
      },
      "execution_count": null,
      "outputs": [
        {
          "output_type": "display_data",
          "data": {
            "text/plain": [
              "<Figure size 800x800 with 1 Axes>"
            ],
            "image/png": "[encoded data removed]"
          },
          "metadata": {}
        }
      ]
    },
    {
      "cell_type": "markdown",
      "source": [
        "A mediana é o valor central de um conjunto de dados, quando o mesmo está organizado em ordem crescente. A mediana divide o conjunto em duas partes: 50% dos valores serão iguais ou inferiores a ela, e os outros 50% serão iguais ou superiores.\n",
        "\n",
        "Através da figura é possível observar que todas as regiões apresentam valores discrepantes e a região Centro Oeste é a que possui maior variabilidade nos preços. Também é verificado que a distribuição dos preços do gás nas regiões Sudeste e Nordeste apresenta comportamento parecido, e a mediana dessas regiões é menor quando comparada às outras.\n",
        "\n",
        "\n"
      ],
      "metadata": {
        "id": "-LYy5y0RHANo"
      }
    }
  ]
}